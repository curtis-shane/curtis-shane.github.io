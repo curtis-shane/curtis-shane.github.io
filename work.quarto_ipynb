{
  "cells": [
    {
      "cell_type": "markdown",
      "metadata": {},
      "source": [
        "---\n",
        "title: \"Untitled\"\n",
        "\n",
        "engine: python3\n",
        "---\n",
        "\n",
        "\n",
        "\n",
        "\n",
        "sdjfhbsier\n",
        "\n",
        "### level 2 header\n"
      ],
      "id": "258c1c48"
    },
    {
      "cell_type": "code",
      "metadata": {},
      "source": [
        "print(\"hello world\")"
      ],
      "id": "df2cded4",
      "execution_count": null,
      "outputs": []
    }
  ],
  "metadata": {
    "kernelspec": {
      "display_name": "Python 3",
      "language": "python",
      "name": "python3"
    }
  },
  "nbformat": 4,
  "nbformat_minor": 5
}