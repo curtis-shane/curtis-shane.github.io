{
  "cells": [
    {
      "cell_type": "markdown",
      "metadata": {},
      "source": [
        "---\n",
        "title: \"Untitled\"\n",
        "\n",
        "engine: python3\n",
        "---\n",
        "\n",
        "\n",
        "\n",
        "\n",
        "sdjfhbsier\n",
        "\n",
        "### level 2 header\n"
      ],
      "id": "2684aaf0"
    },
    {
      "cell_type": "code",
      "metadata": {},
      "source": [
        "print(\"hello world\")"
      ],
      "id": "781621db",
      "execution_count": null,
      "outputs": []
    }
  ],
  "metadata": {
    "kernelspec": {
      "display_name": "Python 3",
      "language": "python",
      "name": "python3"
    }
  },
  "nbformat": 4,
  "nbformat_minor": 5
}